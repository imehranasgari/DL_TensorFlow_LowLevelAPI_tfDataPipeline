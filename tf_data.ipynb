{
 "cells": [
  {
   "cell_type": "code",
   "execution_count": 2,
   "id": "58e71901-d3b9-41f4-8877-54ed83129f44",
   "metadata": {},
   "outputs": [],
   "source": [
    "import tensorflow as tf\n",
    "import numpy as np"
   ]
  },
  {
   "cell_type": "code",
   "execution_count": 6,
   "id": "2b5fbe90-96c1-462a-a682-8c07ecdd729d",
   "metadata": {},
   "outputs": [
    {
     "data": {
      "text/plain": [
       "<_TensorSliceDataset element_spec=TensorSpec(shape=(), dtype=tf.int32, name=None)>"
      ]
     },
     "execution_count": 6,
     "metadata": {},
     "output_type": "execute_result"
    }
   ],
   "source": [
    "x = np.array([1,4,2,5,6])\n",
    "data_set = tf.data.Dataset.from_tensor_slices(x)\n",
    "data_set"
   ]
  },
  {
   "cell_type": "code",
   "execution_count": 8,
   "id": "0ddd849c-d9d8-4e18-9e23-a1ed30b521e2",
   "metadata": {},
   "outputs": [
    {
     "name": "stdout",
     "output_type": "stream",
     "text": [
      "tf.Tensor(1, shape=(), dtype=int32)\n",
      "tf.Tensor(4, shape=(), dtype=int32)\n",
      "tf.Tensor(2, shape=(), dtype=int32)\n",
      "tf.Tensor(5, shape=(), dtype=int32)\n",
      "tf.Tensor(6, shape=(), dtype=int32)\n"
     ]
    }
   ],
   "source": [
    "for elem in data_set:\n",
    "    print(elem)"
   ]
  },
  {
   "cell_type": "code",
   "execution_count": 10,
   "id": "6e2f29c3-4780-4e52-b1b0-9ce7d3261017",
   "metadata": {},
   "outputs": [],
   "source": [
    "it = iter(data_set)"
   ]
  },
  {
   "cell_type": "code",
   "execution_count": 14,
   "id": "8b56e43a-17b9-4e6d-9e07-0ad662e16464",
   "metadata": {},
   "outputs": [
    {
     "name": "stdout",
     "output_type": "stream",
     "text": [
      "4\n"
     ]
    }
   ],
   "source": [
    "print(next(it).numpy())"
   ]
  },
  {
   "cell_type": "markdown",
   "id": "1dcf1c6d-eed7-4998-883a-7dcf5548aa63",
   "metadata": {},
   "source": [
    "import random\n",
    "\n",
    "def get_random():\n",
    "    return random.randint(1, 10)\n",
    "\n",
    "rand_iter = iter(get_random, 7)  # تا زمانی که مقدار ۷ بازگردانده شود اجرا می‌شود\n",
    "for num in rand_iter:\n",
    "    print(num)\n"
   ]
  },
  {
   "cell_type": "code",
   "execution_count": 26,
   "id": "be9f36f8-c52b-4d51-9913-955739d36d5f",
   "metadata": {},
   "outputs": [],
   "source": [
    "x = tf.random.uniform([200,10])\n",
    "data_set = tf.data.Dataset.from_tensor_slices(x)"
   ]
  },
  {
   "cell_type": "code",
   "execution_count": 28,
   "id": "5daf564b-3159-4d7f-97e0-15f6ce80eb23",
   "metadata": {},
   "outputs": [
    {
     "name": "stdout",
     "output_type": "stream",
     "text": [
      "tf.Tensor(\n",
      "[0.83546686 0.0850662  0.42021215 0.53862894 0.50977254 0.1979394\n",
      " 0.8875015  0.21667778 0.5281631  0.6082097 ], shape=(10,), dtype=float32)\n",
      "tf.Tensor(\n",
      "[0.85138285 0.9471897  0.30255556 0.16030431 0.71925235 0.5009254\n",
      " 0.80523443 0.55710506 0.9268421  0.7771517 ], shape=(10,), dtype=float32)\n",
      "tf.Tensor(\n",
      "[0.494112   0.94781494 0.9725952  0.27592337 0.84762967 0.14473999\n",
      " 0.11718678 0.25622106 0.79975116 0.27822566], shape=(10,), dtype=float32)\n",
      "tf.Tensor(\n",
      "[0.253201   0.410213   0.7844596  0.85242045 0.01158249 0.95990086\n",
      " 0.8557637  0.35646546 0.69082344 0.3075106 ], shape=(10,), dtype=float32)\n",
      "tf.Tensor(\n",
      "[0.99278414 0.9688184  0.43105042 0.7198936  0.87458    0.7800734\n",
      " 0.6052849  0.8423253  0.34523296 0.8681675 ], shape=(10,), dtype=float32)\n",
      "tf.Tensor(\n",
      "[0.07619727 0.45325434 0.30406845 0.03336167 0.880865   0.99393475\n",
      " 0.16819763 0.03378916 0.9737309  0.42980433], shape=(10,), dtype=float32)\n",
      "tf.Tensor(\n",
      "[0.24762893 0.33553636 0.12829363 0.85681057 0.77948785 0.43666804\n",
      " 0.2808286  0.23190498 0.9969801  0.47922242], shape=(10,), dtype=float32)\n",
      "tf.Tensor(\n",
      "[0.26237392 0.7461077  0.43226302 0.77610743 0.38108933 0.8091494\n",
      " 0.30062592 0.364658   0.02524853 0.02489424], shape=(10,), dtype=float32)\n",
      "tf.Tensor(\n",
      "[0.27566707 0.6519177  0.34384453 0.26140332 0.4810425  0.99638367\n",
      " 0.04553115 0.37086165 0.2679106  0.73170567], shape=(10,), dtype=float32)\n",
      "tf.Tensor(\n",
      "[0.5214312  0.8037709  0.8132634  0.23828638 0.90521276 0.03983176\n",
      " 0.13044858 0.15993536 0.9196181  0.03053916], shape=(10,), dtype=float32)\n",
      "tf.Tensor(\n",
      "[0.0834235  0.3205185  0.49463558 0.27776468 0.2595241  0.97812366\n",
      " 0.2293334  0.14710128 0.5441065  0.31970358], shape=(10,), dtype=float32)\n",
      "tf.Tensor(\n",
      "[0.54318905 0.77557135 0.15801501 0.3311603  0.30341578 0.7103007\n",
      " 0.23600876 0.17932534 0.93191314 0.8054049 ], shape=(10,), dtype=float32)\n"
     ]
    }
   ],
   "source": [
    "for index , elem in enumerate(data_set):\n",
    "    print(elem)\n",
    "    if index>10:\n",
    "        break"
   ]
  },
  {
   "cell_type": "code",
   "execution_count": 37,
   "id": "0ee47971-6cd0-49fb-be74-ddf68e248dee",
   "metadata": {},
   "outputs": [
    {
     "data": {
      "text/plain": [
       "TensorSpec(shape=(10,), dtype=tf.float32, name=None)"
      ]
     },
     "execution_count": 37,
     "metadata": {},
     "output_type": "execute_result"
    }
   ],
   "source": [
    "data_set.element_spec"
   ]
  },
  {
   "cell_type": "code",
   "execution_count": 42,
   "id": "83bc4e14-d80a-407f-b384-86ca05f81662",
   "metadata": {},
   "outputs": [],
   "source": [
    "y= tf.random.uniform([200], maxval=2 , dtype= tf.int32)"
   ]
  },
  {
   "cell_type": "code",
   "execution_count": 44,
   "id": "5ea29d7f-0540-4e28-b6bf-fd53d235b19a",
   "metadata": {},
   "outputs": [],
   "source": [
    "data_set = tf.data.Dataset.from_tensor_slices((x,y))"
   ]
  },
  {
   "cell_type": "code",
   "execution_count": 46,
   "id": "6047c18f-b041-493d-9d58-dba53bc8399a",
   "metadata": {},
   "outputs": [
    {
     "data": {
      "text/plain": [
       "(TensorSpec(shape=(10,), dtype=tf.float32, name=None),\n",
       " TensorSpec(shape=(), dtype=tf.int32, name=None))"
      ]
     },
     "execution_count": 46,
     "metadata": {},
     "output_type": "execute_result"
    }
   ],
   "source": [
    "data_set.element_spec"
   ]
  },
  {
   "cell_type": "code",
   "execution_count": 48,
   "id": "dae1dbaf-f320-4b48-98a6-da2da0fddaf7",
   "metadata": {},
   "outputs": [
    {
     "name": "stdout",
     "output_type": "stream",
     "text": [
      " x0 is [0.83546686 0.0850662  0.42021215 0.53862894 0.50977254 0.1979394\n",
      " 0.8875015  0.21667778 0.5281631  0.6082097 ] and y is 0\n",
      " x1 is [0.85138285 0.9471897  0.30255556 0.16030431 0.71925235 0.5009254\n",
      " 0.80523443 0.55710506 0.9268421  0.7771517 ] and y is 1\n",
      " x2 is [0.494112   0.94781494 0.9725952  0.27592337 0.84762967 0.14473999\n",
      " 0.11718678 0.25622106 0.79975116 0.27822566] and y is 0\n",
      " x3 is [0.253201   0.410213   0.7844596  0.85242045 0.01158249 0.95990086\n",
      " 0.8557637  0.35646546 0.69082344 0.3075106 ] and y is 1\n",
      " x4 is [0.99278414 0.9688184  0.43105042 0.7198936  0.87458    0.7800734\n",
      " 0.6052849  0.8423253  0.34523296 0.8681675 ] and y is 1\n",
      " x5 is [0.07619727 0.45325434 0.30406845 0.03336167 0.880865   0.99393475\n",
      " 0.16819763 0.03378916 0.9737309  0.42980433] and y is 0\n",
      " x6 is [0.24762893 0.33553636 0.12829363 0.85681057 0.77948785 0.43666804\n",
      " 0.2808286  0.23190498 0.9969801  0.47922242] and y is 0\n"
     ]
    }
   ],
   "source": [
    "for i , (x,y) in enumerate(data_set):\n",
    "    print (f' x{i} is {x} and y is {y}')\n",
    "    if i >5 :\n",
    "        break"
   ]
  },
  {
   "cell_type": "code",
   "execution_count": 50,
   "id": "0d878c99-e014-460e-b5e9-7e18653696fd",
   "metadata": {},
   "outputs": [],
   "source": [
    "x = tf.random.uniform([200,10])\n",
    "y = tf.random.uniform([200],maxval=2 , dtype=tf.int32)\n",
    "d_x = tf.data.Dataset.from_tensor_slices(x)\n",
    "d_y = tf.data.Dataset.from_tensor_slices(y)"
   ]
  },
  {
   "cell_type": "code",
   "execution_count": 53,
   "id": "2de798ec-b194-4612-80cd-5420b8a8f9c4",
   "metadata": {},
   "outputs": [
    {
     "name": "stdout",
     "output_type": "stream",
     "text": [
      "TensorSpec(shape=(10,), dtype=tf.float32, name=None)\n",
      "TensorSpec(shape=(), dtype=tf.int32, name=None)\n"
     ]
    }
   ],
   "source": [
    "print(d_x.element_spec)\n",
    "print(d_y.element_spec)"
   ]
  },
  {
   "cell_type": "code",
   "execution_count": 57,
   "id": "03312d71-d187-4f35-acf4-54affe6edbb6",
   "metadata": {},
   "outputs": [],
   "source": [
    "ds = tf.data.Dataset.zip((d_x,d_y))"
   ]
  },
  {
   "cell_type": "code",
   "execution_count": 59,
   "id": "78054996-8cef-4da6-aaae-f2145116dd93",
   "metadata": {},
   "outputs": [
    {
     "data": {
      "text/plain": [
       "(TensorSpec(shape=(10,), dtype=tf.float32, name=None),\n",
       " TensorSpec(shape=(), dtype=tf.int32, name=None))"
      ]
     },
     "execution_count": 59,
     "metadata": {},
     "output_type": "execute_result"
    }
   ],
   "source": [
    "ds.element_spec"
   ]
  },
  {
   "cell_type": "code",
   "execution_count": 61,
   "id": "1fa0f361-4339-4f15-8e2a-70a36258fb7d",
   "metadata": {},
   "outputs": [
    {
     "name": "stdout",
     "output_type": "stream",
     "text": [
      " x is [0.05480599 0.48157954 0.59991086 0.01540196 0.04406714 0.97598875\n",
      " 0.10218191 0.31618714 0.4023837  0.11394906] and y is 0\n",
      " x is [0.14281368 0.69415855 0.0314424  0.6646273  0.9935677  0.13390565\n",
      " 0.31064916 0.16069269 0.6564995  0.07574069] and y is 0\n",
      " x is [0.7853544  0.66077864 0.14747989 0.17897487 0.08568799 0.41381586\n",
      " 0.7656847  0.82443964 0.22755075 0.9643407 ] and y is 0\n",
      " x is [0.36076403 0.11808968 0.67529416 0.20803237 0.7838961  0.49267125\n",
      " 0.89606917 0.25335646 0.5320978  0.855016  ] and y is 0\n",
      " x is [0.6203667  0.04428828 0.8960041  0.27032125 0.40123582 0.80973697\n",
      " 0.02510369 0.82592976 0.8676882  0.6697124 ] and y is 0\n",
      " x is [0.6946014  0.70405805 0.4209509  0.18778133 0.19802868 0.23751032\n",
      " 0.4461156  0.45761704 0.31633735 0.6005223 ] and y is 0\n",
      " x is [0.8086268  0.9661863  0.9461007  0.78108037 0.77155674 0.89198613\n",
      " 0.12573326 0.7773937  0.65394104 0.6324147 ] and y is 1\n",
      " x is [0.01286089 0.8508458  0.22929358 0.15828669 0.00632775 0.755587\n",
      " 0.20410395 0.2555889  0.64972985 0.39235997] and y is 0\n",
      " x is [0.22631872 0.9593518  0.72090983 0.02015686 0.63198686 0.7362728\n",
      " 0.6727632  0.5894952  0.09540033 0.48114097] and y is 1\n",
      " x is [0.5152638  0.34220946 0.07361794 0.06446135 0.9493233  0.5772923\n",
      " 0.7997581  0.2687205  0.9866508  0.02623558] and y is 0\n"
     ]
    }
   ],
   "source": [
    "for x , y in ds.take(10):\n",
    "    print (f' x is {x} and y is {y}')"
   ]
  },
  {
   "cell_type": "code",
   "execution_count": 65,
   "id": "16e68bf2-f916-4759-99cf-80e9204ba501",
   "metadata": {},
   "outputs": [
    {
     "name": "stdout",
     "output_type": "stream",
     "text": [
      "tf.Tensor([0 1 2 3 4], shape=(5,), dtype=int32)\n"
     ]
    }
   ],
   "source": [
    "x =  tf.range(5)\n",
    "print(x)"
   ]
  },
  {
   "cell_type": "code",
   "execution_count": 67,
   "id": "33492d8a-6a02-4c74-8107-9abe798a11e8",
   "metadata": {},
   "outputs": [],
   "source": [
    "ds =  tf.data.Dataset.from_tensor_slices(x)"
   ]
  },
  {
   "cell_type": "code",
   "execution_count": 69,
   "id": "f25e10a8-80eb-45e9-bac9-9233a61ebc20",
   "metadata": {},
   "outputs": [
    {
     "name": "stdout",
     "output_type": "stream",
     "text": [
      "tf.Tensor(0, shape=(), dtype=int32)\n",
      "tf.Tensor(1, shape=(), dtype=int32)\n",
      "tf.Tensor(2, shape=(), dtype=int32)\n",
      "tf.Tensor(3, shape=(), dtype=int32)\n",
      "tf.Tensor(4, shape=(), dtype=int32)\n"
     ]
    }
   ],
   "source": [
    "for elem in ds:\n",
    "    print(elem)"
   ]
  },
  {
   "cell_type": "code",
   "execution_count": 71,
   "id": "c73b2f9c-4c4d-4525-a390-234f163b2248",
   "metadata": {},
   "outputs": [],
   "source": [
    "ds = ds.shuffle(buffer_size=5)"
   ]
  },
  {
   "cell_type": "code",
   "execution_count": 73,
   "id": "26b2862c-4153-4b34-88b9-097ab7e4663d",
   "metadata": {},
   "outputs": [
    {
     "name": "stdout",
     "output_type": "stream",
     "text": [
      "tf.Tensor(2, shape=(), dtype=int32)\n",
      "tf.Tensor(0, shape=(), dtype=int32)\n",
      "tf.Tensor(3, shape=(), dtype=int32)\n",
      "tf.Tensor(4, shape=(), dtype=int32)\n",
      "tf.Tensor(1, shape=(), dtype=int32)\n"
     ]
    }
   ],
   "source": [
    "for elem in ds:\n",
    "    print(elem)"
   ]
  },
  {
   "cell_type": "code",
   "execution_count": 76,
   "id": "bac18ad2-f5f3-4c33-a888-d50d5af5e0c4",
   "metadata": {},
   "outputs": [],
   "source": [
    "ds = tf.data.Dataset.from_tensor_slices(x)"
   ]
  },
  {
   "cell_type": "code",
   "execution_count": 78,
   "id": "fc7fe179-47d6-436b-8629-93b45147f2d8",
   "metadata": {},
   "outputs": [
    {
     "name": "stdout",
     "output_type": "stream",
     "text": [
      "tf.Tensor(0, shape=(), dtype=int32)\n",
      "tf.Tensor(1, shape=(), dtype=int32)\n",
      "tf.Tensor(2, shape=(), dtype=int32)\n",
      "tf.Tensor(3, shape=(), dtype=int32)\n",
      "tf.Tensor(4, shape=(), dtype=int32)\n",
      "tf.Tensor(0, shape=(), dtype=int32)\n",
      "tf.Tensor(1, shape=(), dtype=int32)\n",
      "tf.Tensor(2, shape=(), dtype=int32)\n",
      "tf.Tensor(3, shape=(), dtype=int32)\n",
      "tf.Tensor(4, shape=(), dtype=int32)\n"
     ]
    }
   ],
   "source": [
    "ds= ds.repeat(2)\n",
    "for elem in ds:\n",
    "    print(elem)"
   ]
  },
  {
   "cell_type": "code",
   "execution_count": 80,
   "id": "3106d29b-c520-438d-bdd4-1d3a2c9f3d53",
   "metadata": {},
   "outputs": [],
   "source": [
    "ds = tf.data.Dataset.from_tensor_slices(x)"
   ]
  },
  {
   "cell_type": "code",
   "execution_count": 82,
   "id": "2c043f18-257d-4ea5-a330-bc1bac4e3d9a",
   "metadata": {},
   "outputs": [
    {
     "name": "stdout",
     "output_type": "stream",
     "text": [
      "tf.Tensor(3, shape=(), dtype=int32)\n",
      "tf.Tensor(0, shape=(), dtype=int32)\n",
      "tf.Tensor(2, shape=(), dtype=int32)\n",
      "tf.Tensor(4, shape=(), dtype=int32)\n",
      "tf.Tensor(1, shape=(), dtype=int32)\n",
      "tf.Tensor(3, shape=(), dtype=int32)\n",
      "tf.Tensor(0, shape=(), dtype=int32)\n",
      "tf.Tensor(4, shape=(), dtype=int32)\n",
      "tf.Tensor(1, shape=(), dtype=int32)\n",
      "tf.Tensor(2, shape=(), dtype=int32)\n"
     ]
    }
   ],
   "source": [
    "ds = ds.shuffle(buffer_size=5)\n",
    "ds= ds.repeat(2)\n",
    "for elem in ds:\n",
    "    print(elem)"
   ]
  },
  {
   "cell_type": "code",
   "execution_count": 131,
   "id": "a23fdfe4-5cd9-4d1e-83c7-58b53d76b073",
   "metadata": {},
   "outputs": [],
   "source": [
    "x = tf.range(100)\n",
    "ds = tf.data.Dataset.from_tensor_slices(x)"
   ]
  },
  {
   "cell_type": "code",
   "execution_count": 105,
   "id": "f4ab6970-0515-4724-b63c-7a87ff4efea8",
   "metadata": {},
   "outputs": [
    {
     "name": "stdout",
     "output_type": "stream",
     "text": [
      "tf.Tensor(0, shape=(), dtype=int32)\n",
      "tf.Tensor(1, shape=(), dtype=int32)\n",
      "tf.Tensor(2, shape=(), dtype=int32)\n",
      "tf.Tensor(3, shape=(), dtype=int32)\n",
      "tf.Tensor(4, shape=(), dtype=int32)\n"
     ]
    }
   ],
   "source": [
    "for elem in ds.take(5):\n",
    "    print(elem)"
   ]
  },
  {
   "cell_type": "code",
   "execution_count": 109,
   "id": "71831a7e-fa1e-41b5-9d75-d20ed6b8a72a",
   "metadata": {},
   "outputs": [
    {
     "name": "stdout",
     "output_type": "stream",
     "text": [
      "tf.Tensor([ 0  1  2  3  4  5  6  7  8  9 10 11 12 13 14 15 16 17 18 19], shape=(20,), dtype=int32)\n",
      "tf.Tensor([20 21 22 23 24 25 26 27 28 29 30 31 32 33 34 35 36 37 38 39], shape=(20,), dtype=int32)\n",
      "tf.Tensor([40 41 42 43 44 45 46 47 48 49 50 51 52 53 54 55 56 57 58 59], shape=(20,), dtype=int32)\n",
      "tf.Tensor([60 61 62 63 64 65 66 67 68 69 70 71 72 73 74 75 76 77 78 79], shape=(20,), dtype=int32)\n",
      "tf.Tensor([80 81 82 83 84 85 86 87 88 89 90 91 92 93 94 95 96 97 98 99], shape=(20,), dtype=int32)\n"
     ]
    }
   ],
   "source": [
    "ds_b = ds.batch(20)\n",
    "for elem in ds_b.take(5):\n",
    "    print(elem)"
   ]
  },
  {
   "cell_type": "code",
   "execution_count": 149,
   "id": "24939094-709f-476a-a7a2-7da1e4cbfbf4",
   "metadata": {},
   "outputs": [
    {
     "name": "stdout",
     "output_type": "stream",
     "text": [
      "tf.Tensor([13 14  9  1  4  6  0 18  2 23 20 17  3 26 15 27 10  8 29  7], shape=(20,), dtype=int32)\n",
      "tf.Tensor([30 28 24 31 34 11  5 12 42 39 16 44 36 35 38 33 37 21 32 41], shape=(20,), dtype=int32)\n",
      "tf.Tensor([43 53 56 54 45 58 48 25 47 22 40 63 46 66 50 65 61 52 51 71], shape=(20,), dtype=int32)\n",
      "tf.Tensor([49 59 72 75 60 79 19 64 80 70 74 73 78 67 69 84 57 87 82 91], shape=(20,), dtype=int32)\n",
      "tf.Tensor([85 94 77 88 90 86 68 95 89 92 96 55 97 99 81 83 98 62 93 76], shape=(20,), dtype=int32)\n"
     ]
    }
   ],
   "source": [
    "ds_s = ds.shuffle(buffer_size=15,seed=1, reshuffle_each_iteration=False)\n",
    "ds_b = ds_s.batch(20)\n",
    "for elem in ds_b.take(5):\n",
    "    print(elem)"
   ]
  },
  {
   "cell_type": "code",
   "execution_count": null,
   "id": "8c67c671-ada0-4431-80d2-1d2c12f3d652",
   "metadata": {},
   "outputs": [],
   "source": []
  }
 ],
 "metadata": {
  "kernelspec": {
   "display_name": "Python [conda env:a.i] *",
   "language": "python",
   "name": "conda-env-a.i-py"
  },
  "language_info": {
   "codemirror_mode": {
    "name": "ipython",
    "version": 3
   },
   "file_extension": ".py",
   "mimetype": "text/x-python",
   "name": "python",
   "nbconvert_exporter": "python",
   "pygments_lexer": "ipython3",
   "version": "3.10.13"
  }
 },
 "nbformat": 4,
 "nbformat_minor": 5
}
